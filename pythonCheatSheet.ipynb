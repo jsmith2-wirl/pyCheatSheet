{
 "cells": [
  {
   "cell_type": "code",
   "execution_count": 31,
   "metadata": {},
   "outputs": [],
   "source": [
    "import os\n",
    "import pathlib\n",
    "import rasterio\n",
    "import numpy as np\n",
    "import pandas as pd\n",
    "import xarray as xr\n",
    "import rioxarray as rxr\n",
    "import geopandas as gpd\n",
    "from osgeo import gdal, osr \n",
    "import scipy.ndimage as filters\n",
    "import matplotlib.pyplot as plt\n",
    "from scipy.optimize import curve_fit\n",
    "from sklearn.linear_model import LinearRegression"
   ]
  },
  {
   "cell_type": "code",
   "execution_count": 14,
   "metadata": {},
   "outputs": [
    {
     "name": "stdout",
     "output_type": "stream",
     "text": [
      "file.txt\n"
     ]
    }
   ],
   "source": [
    "#find your current working directory:\n",
    "wd = os.getcwd()\n",
    "\n",
    "#change your working directory:\n",
    "os.chdir(\"/Users/jsmith/Desktop\")\n",
    "\n",
    "#split path into components\n",
    "path = os.getcwd()\n",
    "os.path.split(path)\n",
    "\n",
    "#split file from path\n",
    "path, file = os.path.split(\"/Users/jsmith/Desktop/file.txt\")\n",
    "\n",
    "#use different library to make a path object:\n",
    "pathlib.Path(\"/Users/jsmith/Desktop/file.txt\")\n",
    "\n",
    "#Split path into just file name with pathLib:\n",
    "path = pathlib.Path(\"/Users/jsmith/Desktop/file.txt\")\n",
    "print(path.name)"
   ]
  },
  {
   "cell_type": "code",
   "execution_count": 15,
   "metadata": {},
   "outputs": [
    {
     "name": "stdout",
     "output_type": "stream",
     "text": [
      "[[[1 2 3]\n",
      "  [1 2 3]]\n",
      "\n",
      " [[4 5 6]\n",
      "  [4 5 6]]\n",
      "\n",
      " [[7 8 9]\n",
      "  [7 8 9]]]\n"
     ]
    },
    {
     "data": {
      "text/plain": [
       "(3, 2, 3)"
      ]
     },
     "execution_count": 15,
     "metadata": {},
     "output_type": "execute_result"
    }
   ],
   "source": [
    "#make ranges of numbers in lists:\n",
    "list = np.arange(1,10,1).tolist()\n",
    "\n",
    "#make a bunch of random integers in a list:\n",
    "ints = np.random.randint(1,20,15)\n",
    "\n",
    "#make a bunch of numbers that follow a normal distribution with sd = 2, mean = 27, and n = 1000:\n",
    "normal = np.random.normal(27, 1, 8).tolist()\n",
    "\n",
    "#make a 3-d array that is 2 rows by 3 columns and 3 bands deep:\n",
    "arr = np.array([[[1,2,3], [1,2,3]], \n",
    "                [[4,5,6], [4,5,6]], \n",
    "                [[7,8,9], [7,8,9]]])\n",
    "print(arr)\n",
    "\n",
    "#note the order is bands, rows, columns\n",
    "arr.shape"
   ]
  },
  {
   "cell_type": "code",
   "execution_count": 16,
   "metadata": {},
   "outputs": [],
   "source": [
    "#make a dictionary that has a few keys and values:\n",
    "dict = {\n",
    "\n",
    "    \"species\": [\"oak\", \"turkey oak\", \"beech\", \"birch\", \"yew\", \"chimken\", \"pine\", \"maple\"],\n",
    "    \"height\": [10,29,39,40,50,70,40,60], \n",
    "    \"dbh\": normal\n",
    "\n",
    "}"
   ]
  },
  {
   "cell_type": "code",
   "execution_count": 29,
   "metadata": {},
   "outputs": [],
   "source": [
    "#turn the dictionary into a pandas dataframe:\n",
    "df = pd.DataFrame.from_dict(dict)\n",
    "\n",
    "#add an extra column of values to the dataframe:\n",
    "trueDbh = [22, 50, 80, 125, 64, 40, 20, 100]\n",
    "df[\"trueDbh\"] = trueDbh\n",
    "\n",
    "df2 = pd.DataFrame({ \"species\": [\"oak\", \"turkey oak\", \"chicko\", \"birch\", \"yew\", \"chimken\", \"pine\", \"maple\"],\n",
    "    \"latin\": [\"quercus\", \"quercus\", \"fagus\", \"betula\", \"taxus\", \"gallus\", \"pinus\", \"acer\"], \n",
    "    \"dbh\": normal })"
   ]
  },
  {
   "cell_type": "code",
   "execution_count": 33,
   "metadata": {},
   "outputs": [
    {
     "data": {
      "text/html": [
       "<div>\n",
       "<style scoped>\n",
       "    .dataframe tbody tr th:only-of-type {\n",
       "        vertical-align: middle;\n",
       "    }\n",
       "\n",
       "    .dataframe tbody tr th {\n",
       "        vertical-align: top;\n",
       "    }\n",
       "\n",
       "    .dataframe thead th {\n",
       "        text-align: right;\n",
       "    }\n",
       "</style>\n",
       "<table border=\"1\" class=\"dataframe\">\n",
       "  <thead>\n",
       "    <tr style=\"text-align: right;\">\n",
       "      <th></th>\n",
       "      <th>species</th>\n",
       "      <th>height</th>\n",
       "      <th>dbh_x</th>\n",
       "      <th>trueDbh</th>\n",
       "      <th>latin</th>\n",
       "      <th>dbh_y</th>\n",
       "    </tr>\n",
       "  </thead>\n",
       "  <tbody>\n",
       "    <tr>\n",
       "      <th>0</th>\n",
       "      <td>oak</td>\n",
       "      <td>10</td>\n",
       "      <td>25.516761</td>\n",
       "      <td>22</td>\n",
       "      <td>quercus</td>\n",
       "      <td>25.516761</td>\n",
       "    </tr>\n",
       "    <tr>\n",
       "      <th>1</th>\n",
       "      <td>turkey oak</td>\n",
       "      <td>29</td>\n",
       "      <td>26.929374</td>\n",
       "      <td>50</td>\n",
       "      <td>quercus</td>\n",
       "      <td>26.929374</td>\n",
       "    </tr>\n",
       "    <tr>\n",
       "      <th>2</th>\n",
       "      <td>beech</td>\n",
       "      <td>39</td>\n",
       "      <td>28.394155</td>\n",
       "      <td>80</td>\n",
       "      <td>NaN</td>\n",
       "      <td>NaN</td>\n",
       "    </tr>\n",
       "    <tr>\n",
       "      <th>3</th>\n",
       "      <td>birch</td>\n",
       "      <td>40</td>\n",
       "      <td>25.888677</td>\n",
       "      <td>125</td>\n",
       "      <td>betula</td>\n",
       "      <td>25.888677</td>\n",
       "    </tr>\n",
       "    <tr>\n",
       "      <th>4</th>\n",
       "      <td>yew</td>\n",
       "      <td>50</td>\n",
       "      <td>25.186962</td>\n",
       "      <td>64</td>\n",
       "      <td>taxus</td>\n",
       "      <td>25.186962</td>\n",
       "    </tr>\n",
       "    <tr>\n",
       "      <th>5</th>\n",
       "      <td>chimken</td>\n",
       "      <td>70</td>\n",
       "      <td>24.603778</td>\n",
       "      <td>40</td>\n",
       "      <td>gallus</td>\n",
       "      <td>24.603778</td>\n",
       "    </tr>\n",
       "    <tr>\n",
       "      <th>6</th>\n",
       "      <td>pine</td>\n",
       "      <td>40</td>\n",
       "      <td>27.425053</td>\n",
       "      <td>20</td>\n",
       "      <td>pinus</td>\n",
       "      <td>27.425053</td>\n",
       "    </tr>\n",
       "    <tr>\n",
       "      <th>7</th>\n",
       "      <td>maple</td>\n",
       "      <td>60</td>\n",
       "      <td>25.553681</td>\n",
       "      <td>100</td>\n",
       "      <td>acer</td>\n",
       "      <td>25.553681</td>\n",
       "    </tr>\n",
       "  </tbody>\n",
       "</table>\n",
       "</div>"
      ],
      "text/plain": [
       "      species  height      dbh_x  trueDbh    latin      dbh_y\n",
       "0         oak      10  25.516761       22  quercus  25.516761\n",
       "1  turkey oak      29  26.929374       50  quercus  26.929374\n",
       "2       beech      39  28.394155       80      NaN        NaN\n",
       "3       birch      40  25.888677      125   betula  25.888677\n",
       "4         yew      50  25.186962       64    taxus  25.186962\n",
       "5     chimken      70  24.603778       40   gallus  24.603778\n",
       "6        pine      40  27.425053       20    pinus  27.425053\n",
       "7       maple      60  25.553681      100     acer  25.553681"
      ]
     },
     "execution_count": 33,
     "metadata": {},
     "output_type": "execute_result"
    }
   ],
   "source": [
    "#subset the dataframe by selecting only the rows where the species is oak:\n",
    "df[df[\"species\"]== \"oak\"]\n",
    "\n",
    "#subset the dataframe by selecting only the rows where the species is any type of oak:\n",
    "df[df[\"species\"].str.contains(\"oak\")]\n",
    "\n",
    "#subset the dataframe by selecting only the rows where the species is not oak:\n",
    "df[df[\"species\"]!= \"oak\"]\n",
    "df[~df[\"species\"].str.contains(\"oak\")] #same as above, but any oak sub-species\n",
    "df[df[\"species\"].str.contains(\"oak\")==False] #altenative way to do the above\n",
    "\n",
    "#subset the dataframe by selecting only the heights of trees that are not oak:\n",
    "df[df[\"species\"]!= \"oak\"][\"height\"]\n",
    "\n",
    "#subset the dataframe by selecting only the heights of first trees that isn't oak:\n",
    "df[df[\"species\"]!= \"oak\"][\"height\"].values[0]\n",
    "\n",
    "#subset the dataframe based on two conditions: height > 40 and dbh < 120:\n",
    "df[(df[\"height\"] > 40) & (df[\"dbh\"] < 120)]\n",
    "\n",
    "#subset the dataframe based on two conditions: height > 40 and dbh < 120 but only take dbh:\n",
    "df.loc[(df[\"height\"] > 40) & (df[\"dbh\"] < 120),\"dbh\"]\n",
    "\n",
    "#merge df2 names to df1 based on common species name:\n",
    "df.merge(df2, on = 'species', how = 'left')\n",
    "\n",
    "#merge df2 names to df1 based on common species name and only keep the latin column from df2:\n",
    "df.merge(df2[[\"species\", \"latin\"]], on = 'species', how = 'left')"
   ]
  },
  {
   "cell_type": "code",
   "execution_count": 24,
   "metadata": {},
   "outputs": [
    {
     "data": {
      "text/plain": [
       "0    quercus\n",
       "1    quercus\n",
       "2      fagus\n",
       "3     betula\n",
       "4      taxus\n",
       "5     gallus\n",
       "6      pinus\n",
       "7       acer\n",
       "Name: latin, dtype: object"
      ]
     },
     "execution_count": 24,
     "metadata": {},
     "output_type": "execute_result"
    }
   ],
   "source": [
    "df2['latin']"
   ]
  },
  {
   "cell_type": "code",
   "execution_count": null,
   "metadata": {},
   "outputs": [],
   "source": [
    "#Lambda functions:\n",
    "#these save a function to a variable in a single line.\n",
    "#The format is: variable = lambda input: output, e.g.:\n",
    "var = lambda b, c: b - c + 1\n",
    "var(2,1)\n",
    "\n",
    "#write a function that calculates the quadratic mean of two stem Dbh:\n",
    "qm = lambda dbh1, dbh2: np.sqrt((dbh1**2 + dbh2**2)/2)\n",
    "qm(42.1,30.5)\n",
    "\n",
    "lambda : np.sqrt(21**2 + 34**2)/2"
   ]
  },
  {
   "cell_type": "code",
   "execution_count": null,
   "metadata": {},
   "outputs": [],
   "source": [
    "#make a for loop that prints the species of each tree:\n",
    "for index, row in df.iterrows():\n",
    "    print(row[\"species\"])\n",
    "\n",
    "#for loop that squares the dbh of each tree and adds it as a new column\n",
    "vals = []\n",
    "for index, row in df.iterrows():\n",
    "    sqrd = row['dbh']**2\n",
    "    vals.append(sqrd)\n",
    "df['dbh_sqrd'] = vals\n",
    "\n",
    "#for loop that calculates the deviations of the dbh and trueDbh columns and calculates RMSE:\n",
    "for index, row in df.iterrows():\n",
    "    dev = row[\"dbh\"] - row['trueDbh']  \n",
    "    df.at[index,\"deviations\"] = dev #you can use df.loc too\n",
    "\n",
    "print(\"The RMSE is:\", round(np.sqrt(np.mean(df['deviations']**2)),2))"
   ]
  },
  {
   "cell_type": "code",
   "execution_count": 56,
   "metadata": {},
   "outputs": [
    {
     "data": {
      "image/png": "[encoded data removed]",
      "text/plain": [
       "<Figure size 640x480 with 1 Axes>"
      ]
     },
     "metadata": {},
     "output_type": "display_data"
    },
    {
     "data": {
      "image/png": "[encoded data removed]",
      "text/plain": [
       "<Figure size 640x480 with 1 Axes>"
      ]
     },
     "metadata": {},
     "output_type": "display_data"
    },
    {
     "data": {
      "image/png": "[encoded data removed]",
      "text/plain": [
       "<Figure size 640x480 with 1 Axes>"
      ]
     },
     "metadata": {},
     "output_type": "display_data"
    }
   ],
   "source": [
    "#Make a histogram:\n",
    "plt.hist(normal, bins = 10)\n",
    "\n",
    "#Make a fancy histogram:\n",
    "values, bins, bars = plt.hist(normal, edgecolor='white', color = 'darkorange')\n",
    "plt.xlabel(\"Height (m)\")\n",
    "plt.ylabel(\"Frequency\")\n",
    "plt.bar_label(bars, fontsize=10)\n",
    "plt.show()\n",
    "\n",
    "#Make a bar chart\n",
    "fig, ax = plt.subplots()\n",
    "ax.bar(df['species'], df['height'])\n",
    "plt.show()\n",
    "\n",
    "#make a fancy bar chart:\n",
    "color = ['lightblue', 'blue', 'purple', 'red', 'black', 'darkorange']\n",
    "fig, ax = plt.subplots()\n",
    "ax.bar(df['species'], df['height'], color = color)\n",
    "plt.show()"
   ]
  },
  {
   "cell_type": "code",
   "execution_count": null,
   "metadata": {},
   "outputs": [],
   "source": [
    "#make a linear model:\n",
    "x = df.iloc[:, 1].values.reshape(-1,1)  # values converts it into a numpy array\n",
    "y = df.iloc[:, 2].values.reshape(-1,1)  # -1 means that calculate the dimension of rows, but have 1 column\n",
    "y\n",
    "linear_regressor = LinearRegression()  # create object for the class\n",
    "linear_regressor.fit(x, y)  # perform linear regression\n",
    "y_pred = linear_regressor.predict(x)  # make predictions\n",
    "\n",
    "plt.scatter(x, y)\n",
    "plt.plot(x, y_pred, color='red')\n",
    "plt.show()\n",
    "\n",
    "#make a power law model:\n",
    "def plaw(x,a,b):\n",
    "    return a * b**x\n",
    "\n",
    "#fit model\n",
    "popt, _ = curve_fit(plaw, df[\"height\"], df[\"dbh\"])\n",
    "a, b = popt\n",
    "\n",
    "x_line = np.arange(0, 70, 1)\n",
    "y_line = plaw(x_line, a, b)\n",
    "plt.scatter(df[\"height\"], df[\"dbh\"])\n",
    "plt.plot(x_line, y_line, color='red')\n",
    "plt.ylim(0,125)\n",
    "plt.xlim(0,75)\n",
    "plt.xlabel(\"Height (m)\")\n",
    "plt.ylabel(\"DBH (cm)\")\n",
    "plt.show()\n",
    "\n",
    "#make an exponential model:\n",
    "def exp(x,a,b):\n",
    "    return a * x**b\n",
    " \n",
    "popt, _ = curve_fit(exp, df[\"height\"], df[\"dbh\"])\n",
    "a, b = popt\n",
    "\n",
    "x_line = np.arange(0, 70, 1)\n",
    "y_line = exp(x_line, a, b)\n",
    "plt.scatter(df[\"height\"], df[\"dbh\"])\n",
    "plt.plot(x_line, y_line, color='red')\n",
    "plt.ylim(0,125)\n",
    "plt.xlim(0,75)\n",
    "plt.xlabel(\"Height (m)\")\n",
    "plt.ylabel(\"DBH (cm)\")\n",
    "plt.show()\n",
    "\n",
    "#predict on independent data from the model:\n",
    "pred_dbh = exp([1,10,15,20], a, b)"
   ]
  },
  {
   "cell_type": "code",
   "execution_count": 70,
   "metadata": {},
   "outputs": [
    {
     "data": {
      "image/png": "[encoded data removed]",
      "text/plain": [
       "<Figure size 640x480 with 1 Axes>"
      ]
     },
     "metadata": {},
     "output_type": "display_data"
    }
   ],
   "source": [
    "#power lab model\n",
    "\n",
    "def exp(x,a,b):\n",
    "    return a * x**b\n",
    "\n",
    "popt, _ = curve_fit(exp, df[\"height\"], df[\"dbh\"])\n",
    "a,b = popt\n",
    "\n",
    "x_line = np.arange(0,70,1)\n",
    "y_line = exp(x_line,a,b)\n",
    "plt.scatter(df[\"height\"], df[\"dbh\"])\n",
    "plt.plot(x_line, y_line, color='darkorange')\n",
    "plt.show()"
   ]
  },
  {
   "cell_type": "code",
   "execution_count": 71,
   "metadata": {},
   "outputs": [
    {
     "data": {
      "text/plain": [
       "<matplotlib.collections.PathCollection at 0x14f6ba290>"
      ]
     },
     "execution_count": 71,
     "metadata": {},
     "output_type": "execute_result"
    },
    {
     "data": {
      "image/png": "[encoded data removed]",
      "text/plain": [
       "<Figure size 640x480 with 1 Axes>"
      ]
     },
     "metadata": {},
     "output_type": "display_data"
    }
   ],
   "source": [
    "#import a geoJSON as a geopandas dataframe:\n",
    "gdf = gpd.read_file(\"/Users/jsmith/Desktop/gj.geojson\")\n",
    "\n",
    "#import a shapefile as a geopandas dataframe:\n",
    "gdf = gpd.read_file(\"/Users/jsmith/Desktop/shape.shp\")\n",
    "\n",
    "idx = gdf[gdf[\"field\"] == gdf[\"field\"].max()].index.values.tolist()\n",
    "gdf.iloc[idx]\n",
    "\n",
    "#remove large outlier and plot relationship between row spacing and tree spacing:\n",
    "gdf.drop(idx, axis = 0, inplace = True)\n",
    "plt.scatter(gdf[\"field\"], gdf[\"field2\"])"
   ]
  },
  {
   "cell_type": "code",
   "execution_count": 81,
   "metadata": {},
   "outputs": [
    {
     "data": {
      "text/plain": [
       "<osgeo.gdal.Dataset; proxy of <Swig Object of type 'GDALDatasetShadow *' at 0x14b0b7cf0> >"
      ]
     },
     "execution_count": 81,
     "metadata": {},
     "output_type": "execute_result"
    }
   ],
   "source": [
    "#read a raster dataset as a numpy array, apply a median filter, and write to geotiff:\n",
    "\n",
    "ds = gdal.Open(\"/Users/jsmith/Desktop/chm.tif\")\n",
    "band = ds.GetRasterBand(1)\n",
    "\n",
    "array = np.array(ds.GetRasterBand(1).ReadAsArray())\n",
    "\n",
    "#apply median filter\n",
    "result = filters.median_filter(array, size=5)\n",
    "\n",
    "#get proj info \n",
    "geotransform = ds.GetGeoTransform()\n",
    "wkt = ds.GetProjection()\n",
    "\n",
    "#create shell raster\n",
    "# Create gtif file\n",
    "driver = gdal.GetDriverByName(\"GTiff\")\n",
    "output_file = \"/Users/jsmith/Desktop/medianFilter5.tif\"\n",
    "dst_ds = driver.Create(output_file, band.XSize, band.YSize, 1, gdal.GDT_Int16) #1 refers to band size\n",
    "\n",
    "#writting output raster\n",
    "dst_ds.GetRasterBand(1).WriteArray(result)\n",
    "\n",
    "#setting nodata value\n",
    "dst_ds.GetRasterBand(1).SetNoDataValue(-32768.00)\n",
    "\n",
    "#setting extension of output raster\n",
    "# top left x, w-e pixel resolution, rotation, top left y, rotation, n-s pixel resolution\n",
    "dst_ds.SetGeoTransform(geotransform)\n",
    "\n",
    "# setting spatial reference of output raster\n",
    "srs = osr.SpatialReference()\n",
    "srs.ImportFromWkt(wkt)\n",
    "dst_ds.SetProjection( srs.ExportToWkt() )\n",
    "\n",
    "#Close output raster dataset\n",
    "ds = None\n",
    "dst_ds = None"
   ]
  },
  {
   "cell_type": "code",
   "execution_count": 10,
   "metadata": {},
   "outputs": [],
   "source": [
    "#alternative to gdal method for opening a raster and writing a new one:\n",
    "\n",
    "from typing import Union\n",
    "import pathlib\n",
    "import rasterio\n",
    "import scipy.ndimage as filters\n",
    "\n",
    "\n",
    "def median_raster(in_path: Union[str, pathlib.Path], out_path: Union[str, pathlib.Path], kernelSize: int):\n",
    "   import rasterio \n",
    "   import scipy.ndimage as filters\n",
    "\n",
    "   with rasterio.open(in_path) as src:\n",
    "      array = src.read(1)\n",
    "      result = filters.median_filter(array, size=kernelSize)\n",
    "      profile = src.profile.copy()\n",
    "      profile.update(dtype=rasterio.float32)\n",
    "\n",
    "   with rasterio.open(out_path, 'w', **profile) as dst:\n",
    "      dst.write(result.astype(rasterio.float32), 1)"
   ]
  },
  {
   "cell_type": "code",
   "execution_count": 34,
   "metadata": {},
   "outputs": [
    {
     "name": "stdout",
     "output_type": "stream",
     "text": [
      "CRS is: EPSG:4326\n",
      "nodata value is: -32767\n",
      "AOI bounds are: (-4.0001388888888885, 39.9998611111111, -2.9998611111111106, 41.000138888888884)\n",
      "min: 443\n",
      "max: 2417\n",
      "mean: 795.7130327508612\n",
      "std: 259.0308894893622\n",
      "25th and 75th qs [634. 873.]\n"
     ]
    }
   ],
   "source": [
    "#Now, with rioxarray:\n",
    "\n",
    "arr = rxr.open_rasterio(\"/Users/jsmith/Downloads/n40_w004_1arc_v3.tif\")\n",
    "\n",
    "#crs, nodata value, bounds\n",
    "print(\"CRS is:\", arr.rio.crs)\n",
    "print(\"nodata value is:\", arr.rio.nodata)\n",
    "print(\"AOI bounds are:\", arr.rio.bounds())\n",
    "\n",
    "#show the numpy array-like thing. You can start doing band math from here.\n",
    "arr.values \n",
    "\n",
    "#median filer\n",
    "result = filters.median_filter(arr.values, size=2)\n",
    "resultxr = xr.DataArray(result, coords=arr.coords, dims=arr.dims, attrs=arr.attrs)\n",
    "\n",
    "resultxr.rio.to_raster(\"test.tif\")\n",
    "#plot\n",
    "#arr.plot()\n",
    "\n",
    "#statistics:\n",
    "print(\"min:\", arr.min().values)\n",
    "print(\"max:\", arr.max().values)\n",
    "print(\"mean:\", arr.mean().values)\n",
    "print(\"std:\",arr.std().values)\n",
    "print(\"25th and 75th qs\",arr.quantile([0.25, 0.75]).values)"
   ]
  },
  {
   "cell_type": "code",
   "execution_count": 60,
   "metadata": {},
   "outputs": [
    {
     "name": "stdout",
     "output_type": "stream",
     "text": [
      "dachsund is a dog\n",
      "I hope you enjoyed this dog baroOOOO!\n",
      "boston terrier is a dog\n",
      "I hope you enjoyed this dog baroOOOO!\n",
      "bald eagle is not a dog\n",
      "bald eagle is a dog\n",
      "I hope you enjoyed this dog baroOOOO!\n",
      "dog is a dog\n",
      "I hope you enjoyed this dog baroOOOO!\n"
     ]
    }
   ],
   "source": [
    "#try statements\n",
    "#the statement under the try clause is tested for errors.\n",
    "#if there is an error, the except clause is executed.\n",
    "#else statement lets you execute code when there is no error.\n",
    "#finally just executes code regardless of whether or not there is an error.\n",
    "\n",
    "dogsList = ['dachsund', 'boston terrier', 'bald eagle', \"dog\"]\n",
    "\n",
    "for dog in dogsList:\n",
    "    try:\n",
    "        if dog == \"bald eagle\":\n",
    "            print(\"bald eagle is not a dog\")\n",
    "    except:\n",
    "        print(\"something went wrong\")\n",
    "    else:\n",
    "        print(dog, \"is a dog\")\n",
    "    finally:\n",
    "        print(\"I hope you enjoyed this dog baroOOOO!\")"
   ]
  }
 ],
 "metadata": {
  "kernelspec": {
   "display_name": "treeconomy-utils-env",
   "language": "python",
   "name": "python3"
  },
  "language_info": {
   "codemirror_mode": {
    "name": "ipython",
    "version": 3
   },
   "file_extension": ".py",
   "mimetype": "text/x-python",
   "name": "python",
   "nbconvert_exporter": "python",
   "pygments_lexer": "ipython3",
   "version": "3.11.4"
  }
 },
 "nbformat": 4,
 "nbformat_minor": 2
}
